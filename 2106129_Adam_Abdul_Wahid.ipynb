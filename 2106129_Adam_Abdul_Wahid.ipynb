{
  "nbformat": 4,
  "nbformat_minor": 0,
  "metadata": {
    "colab": {
      "provenance": [],
      "toc_visible": true
    },
    "kernelspec": {
      "name": "python3",
      "display_name": "Python 3"
    },
    "language_info": {
      "name": "python"
    }
  },
  "cells": [
    {
      "cell_type": "markdown",
      "source": [
        "BFS"
      ],
      "metadata": {
        "id": "0YKX0ukjTkCH"
      }
    },
    {
      "cell_type": "code",
      "execution_count": 1,
      "metadata": {
        "colab": {
          "base_uri": "https://localhost:8080/"
        },
        "id": "ZqfTp6KsZU0T",
        "outputId": "43aa2428-7bea-4384-90da-49c7984b5408"
      },
      "outputs": [
        {
          "output_type": "stream",
          "name": "stdout",
          "text": [
            "BFS: ['A']\n"
          ]
        }
      ],
      "source": [
        "def bfs(graph, source):\n",
        "    visited = set()\n",
        "    bfs_traversal =list()\n",
        "    queue = list()\n",
        "\n",
        "    queue.append(source)\n",
        "    visited.add(source)\n",
        "\n",
        "    while queue:\n",
        "\n",
        "        current_node = queue.pop(0)\n",
        "        bfs_traversal.append(current_node)\n",
        "\n",
        "        for neighbour_node in graph[current_node]:\n",
        "\n",
        "            if neighbour_node not in visited:\n",
        "                visited.add(neighbour_node)\n",
        "                queue.append(neighbour_node)\n",
        "\n",
        "                return bfs_traversal\n",
        "\n",
        "def main():\n",
        "    graph = {\n",
        "        'A': ['B','C'],\n",
        "        'B': ['A','D','E'],\n",
        "        'C': ['A','F','G'],\n",
        "        'D': ['B'],\n",
        "        'E': ['C'],\n",
        "        'F': ['C'],\n",
        "        'G': ['C']\n",
        "    }\n",
        "\n",
        "    bfs_traversal = bfs(graph, 'A')\n",
        "    print(f\"BFS: {bfs_traversal}\")\n",
        "\n",
        "if __name__=='__main__':\n",
        "    main()"
      ]
    },
    {
      "cell_type": "markdown",
      "source": [
        "DFS"
      ],
      "metadata": {
        "id": "-Eg_Qt0YTs5y"
      }
    },
    {
      "cell_type": "code",
      "source": [
        "def dfs(graph, source, visited, dfs_traversal):\n",
        "    if source not in visited:\n",
        "        dfs_traversal.append(source)\n",
        "        visited.add(source)\n",
        "        \n",
        "        for neighbor_node in graph[source]:\n",
        "            dfs(graph, neighbor_node, visited, dfs_traversal)\n",
        "            \n",
        "        return dfs_traversal\n",
        "\n",
        "def main():\n",
        "    visited = set()\n",
        "    dfs_traversal = list()\n",
        "    \n",
        "    graph = {\n",
        "        'A': ['B','C'],\n",
        "        'B': ['D','E'],\n",
        "        'C': ['F','G'],\n",
        "        'D': [],\n",
        "        'E': [],\n",
        "        'F': [],\n",
        "        'G': []\n",
        "    }\n",
        "    \n",
        "    print(f\"DFS: {dfs(graph, 'A', visited, dfs_traversal)}\")\n",
        "    \n",
        "if __name__==\"__main__\":\n",
        "    main()"
      ],
      "metadata": {
        "colab": {
          "base_uri": "https://localhost:8080/"
        },
        "id": "IqghKcK6rRbH",
        "outputId": "535c7aae-d758-4e86-fe85-85683e2f915a"
      },
      "execution_count": 1,
      "outputs": [
        {
          "output_type": "stream",
          "name": "stdout",
          "text": [
            "DFS: ['A', 'B', 'D', 'E', 'C', 'F', 'G']\n"
          ]
        }
      ]
    },
    {
      "cell_type": "markdown",
      "source": [
        "UCS"
      ],
      "metadata": {
        "id": "7Ia1r57YT0CY"
      }
    },
    {
      "cell_type": "code",
      "source": [
        "def uniform_cost_search(goal, start):\n",
        "\n",
        "\n",
        "\tglobal graph,cost\n",
        "\tanswer = []\n",
        "\n",
        "\tqueue = []\n",
        "\n",
        "\tfor i in range(len(goal)):\n",
        "\t\tanswer.append(10**8)\n",
        "\n",
        "\tqueue.append([0, start])\n",
        "\n",
        "\tvisited = {}\n",
        "\n",
        "\tcount = 0\n",
        "\n",
        "\n",
        "\twhile (len(queue) > 0):\n",
        "\n",
        "\t\tqueue = sorted(queue)\n",
        "\t\tp = queue[-1]\n",
        "\n",
        "\t\tdel queue[-1]\n",
        "\n",
        "\t\tp[0] *= -1\n",
        "\n",
        "\n",
        "\t\tif (p[1] in goal):\n",
        "\n",
        "\t\t\tindex = goal.index(p[1])\n",
        "\n",
        "\t\t\tif (answer[index] == 10**8):\n",
        "\t\t\t\tcount += 1\n",
        "\n",
        "\t\t\tif (answer[index] > p[0]):\n",
        "\t\t\t\tanswer[index] = p[0]\n",
        "\n",
        "\t\t\tdel queue[-1]\n",
        "\n",
        "\t\t\tqueue = sorted(queue)\n",
        "\t\t\tif (count == len(goal)):\n",
        "\t\t\t\treturn answer\n",
        "\n",
        "\t\tif (p[1] not in visited):\n",
        "\t\t\tfor i in range(len(graph[p[1]])):\n",
        "\n",
        "\t\t\t\tqueue.append( [(p[0] + cost[(p[1], graph[p[1]][i])])* -1, graph[p[1]][i]])\n",
        "\n",
        "\t\tvisited[p[1]] = 1\n",
        "\n",
        "\treturn answer\n",
        "\n",
        "if __name__ == '__main__':\n",
        "\n",
        "\n",
        "\tgraph,cost = [[] for i in range(8)],{}\n",
        "\n",
        "\tgraph[0].append(1)\n",
        "\tgraph[0].append(3)\n",
        "\tgraph[3].append(1)\n",
        "\tgraph[3].append(6)\n",
        "\tgraph[3].append(4)\n",
        "\tgraph[1].append(6)\n",
        "\tgraph[4].append(2)\n",
        "\tgraph[4].append(5)\n",
        "\tgraph[2].append(1)\n",
        "\tgraph[5].append(2)\n",
        "\tgraph[5].append(6)\n",
        "\tgraph[6].append(4)\n",
        "\n",
        "\tcost[(0, 1)] = 2\n",
        "\tcost[(0, 3)] = 5\n",
        "\tcost[(1, 6)] = 1\n",
        "\tcost[(3, 1)] = 5\n",
        "\tcost[(3, 6)] = 6\n",
        "\tcost[(3, 4)] = 2\n",
        "\tcost[(2, 1)] = 4\n",
        "\tcost[(4, 2)] = 4\n",
        "\tcost[(4, 5)] = 3\n",
        "\tcost[(5, 2)] = 6\n",
        "\tcost[(5, 6)] = 3\n",
        "\tcost[(6, 4)] = 7\n",
        "\n",
        "\tgoal = []\n",
        "\tgoal.append(6)\n",
        "\tanswer = uniform_cost_search(goal, 0)\n",
        "\tprint(\"Minimum cost from 0 to 6 is = \",answer[0])"
      ],
      "metadata": {
        "colab": {
          "base_uri": "https://localhost:8080/"
        },
        "id": "rmHfv0-_rVAF",
        "outputId": "78445eea-abe6-4f2a-fac2-cac456ad3ae2"
      },
      "execution_count": 9,
      "outputs": [
        {
          "output_type": "stream",
          "name": "stdout",
          "text": [
            "Minimum cost from 0 to 6 is =  3\n"
          ]
        }
      ]
    },
    {
      "cell_type": "markdown",
      "source": [
        "IDDFS"
      ],
      "metadata": {
        "id": "xvtd2llFT4aH"
      }
    },
    {
      "cell_type": "code",
      "source": [
        "def uniform_cost_search(goal, start):\n",
        "\tglobal graph,cost\n",
        "\tanswer = []\n",
        "\tqueue = []\n",
        "\n",
        "\tfor i in range(len(goal)):\n",
        "\t\tanswer.append(10**8)\n",
        "\n",
        "\tqueue.append([0, start])\n",
        "\tvisited = {}\n",
        "\tcount = 0\n",
        "\twhile (len(queue) > 0):\n",
        "\n",
        "\t\tqueue = sorted(queue)\n",
        "\t\tp = queue[-1]\n",
        "\t\tdel queue[-1]\n",
        "\n",
        "\t\tp[0] *= -1\n",
        "\n",
        "\t\tif (p[1] in goal):\n",
        "\n",
        "\t\t\tindex = goal.index(p[1])\n",
        "\t\t\tif (answer[index] == 10**8):\n",
        "\t\t\t\tcount += 1\n",
        "\t\t\tif (answer[index] > p[0]):\n",
        "\t\t\t\tanswer[index] = p[0]\n",
        "\n",
        "\t\t\tdel queue[-1]\n",
        "\t\t\tqueue = sorted(queue)\n",
        "\t\t\tif (count == len(goal)):\n",
        "\t\t\t\treturn answer\n",
        "\n",
        "\t\tif (p[1] not in visited):\n",
        "\t\t\tfor i in range(len(graph[p[1]])):\n",
        "\t\t\t\tqueue.append( [(p[0] + cost[(p[1], graph[p[1]][i])])* -1, graph[p[1]][i]])\n",
        "\n",
        "\t\tvisited[p[1]] = 1\n",
        "\n",
        "\treturn answer\n",
        "\n",
        "if __name__ == '__main__':\n",
        "\n",
        "\n",
        "\tgraph,cost = [[] for i in range(8)],{}\n",
        "\tgraph[0].append(1)\n",
        "\tgraph[0].append(3)\n",
        "\tgraph[3].append(1)\n",
        "\tgraph[3].append(6)\n",
        "\tgraph[3].append(4)\n",
        "\tgraph[1].append(6)\n",
        "\tgraph[4].append(2)\n",
        "\tgraph[4].append(5)\n",
        "\tgraph[2].append(1)\n",
        "\tgraph[5].append(2)\n",
        "\tgraph[5].append(6)\n",
        "\tgraph[6].append(4)\n",
        "\n",
        "\tcost[(0, 1)] = 2\n",
        "\tcost[(0, 3)] = 5\n",
        "\tcost[(1, 6)] = 1\n",
        "\tcost[(3, 1)] = 5\n",
        "\tcost[(3, 6)] = 6\n",
        "\tcost[(3, 4)] = 2\n",
        "\tcost[(2, 1)] = 4\n",
        "\tcost[(4, 2)] = 4\n",
        "\tcost[(4, 5)] = 3\n",
        "\tcost[(5, 2)] = 6\n",
        "\tcost[(5, 6)] = 3\n",
        "\tcost[(6, 4)] = 7\n",
        "\n",
        "\tgoal = []\n",
        "\tgoal.append(6)\n",
        "\tanswer = uniform_cost_search(goal, 0)\n",
        "\tprint(\"Minimum cost from 0 to 6 is = \",answer[0])"
      ],
      "metadata": {
        "colab": {
          "base_uri": "https://localhost:8080/"
        },
        "id": "a2wu38pkHlQx",
        "outputId": "04f30572-4345-43b1-9351-9477c7e8c9b1"
      },
      "execution_count": 10,
      "outputs": [
        {
          "output_type": "stream",
          "name": "stdout",
          "text": [
            "Minimum cost from 0 to 6 is =  3\n"
          ]
        }
      ]
    },
    {
      "cell_type": "markdown",
      "source": [
        "BS"
      ],
      "metadata": {
        "id": "tzoNlLvST9fd"
      }
    },
    {
      "cell_type": "code",
      "source": [
        "from collections import defaultdict\n",
        "class Graph:\n",
        "    def __init__ (self, vertices):\n",
        "        self.V = vertices\n",
        "        self.graph = defaultdict(list)\n",
        "    def addEdge(self,u,v):\n",
        "        self.graph[u]. append(v)\n",
        "        \n",
        "    def DLS (self, src, target, maxDepth):\n",
        "        if src == target : return True\n",
        "        if maxDepth <= 0 : return False\n",
        "        for i in self.graph[src]:\n",
        "            if (self.DLS(i, target, maxDepth-1)):\n",
        "                return True\n",
        "        return False\n",
        "    def IDDFS(self, src, target, maxDepth):\n",
        "        for i in range(maxDepth):\n",
        "            if (self.DLS(src, target, i)):\n",
        "                return True\n",
        "        return False\n",
        "g = Graph (7);\n",
        "g.addEdge(0, 1)\n",
        "g.addEdge(0, 2)\n",
        "g.addEdge(0, 4)\n",
        "g.addEdge(1, 3)\n",
        "g.addEdge(1, 5)\n",
        "g.addEdge(2, 6)\n",
        "\n",
        "target = 6; maxDepth = 3; src = 0\n",
        "if g.IDDFS(src, target, maxDepth) == True:\n",
        "    print (\"Target is reachable from source \" +\n",
        "           \"within max depth\")\n",
        "else :\n",
        "    print (\"Target is NOT reachable from source \" +\n",
        "           \"within max depth\")"
      ],
      "metadata": {
        "colab": {
          "base_uri": "https://localhost:8080/"
        },
        "id": "v52rEu2aSRed",
        "outputId": "19160705-68b4-4c09-ca7a-f81a6fdbd802"
      },
      "execution_count": 11,
      "outputs": [
        {
          "output_type": "stream",
          "name": "stdout",
          "text": [
            "Target is reachable from source within max depth\n"
          ]
        }
      ]
    },
    {
      "cell_type": "code",
      "source": [
        "class AdjacentNode:\n",
        "\tdef __init__(self, vertex):\n",
        "\t\tself.vertex = vertex\n",
        "\t\tself.next = None\n",
        "  \n",
        "class BidirectionalSearch:\n",
        "\tdef __init__(self, vertices):\n",
        "\t\tself.vertices = vertices\n",
        "\t\tself.graph = [None] * self.vertices\n",
        "\n",
        "\t\tself.src_queue = list()\n",
        "\t\tself.dest_queue = list()\n",
        "\n",
        "\t\tself.src_visited = [False] * self.vertices\n",
        "\t\tself.dest_visited = [False] * self.vertices\n",
        "\n",
        "\t\tself.src_parent = [None] * self.vertices\n",
        "\t\tself.dest_parent = [None] * self.vertices\n",
        "\n",
        "\tdef add_edge(self, src, dest):\n",
        "\t\tnode = AdjacentNode(dest)\n",
        "\t\tnode.next = self.graph[src]\n",
        "\t\tself.graph[src] = node\n",
        "\n",
        "\t\tnode = AdjacentNode(src)\n",
        "\t\tnode.next = self.graph[dest]\n",
        "\t\tself.graph[dest] = node\n",
        "\n",
        "\tdef bfs(self, direction = 'forward'):\n",
        "\t\tif direction == 'forward':\n",
        "\t\t\tcurrent = self.src_queue.pop(0)\n",
        "\t\t\tconnected_node = self.graph[current]\n",
        "\n",
        "\t\t\twhile connected_node:\n",
        "\t\t\t\tvertex = connected_node.vertex\n",
        "\n",
        "\t\t\t\tif not self.src_visited[vertex]:\n",
        "\t\t\t\t\tself.src_queue.append(vertex)\n",
        "\t\t\t\t\tself.src_visited[vertex] = True\n",
        "\t\t\t\t\tself.src_parent[vertex] = current\n",
        "\t\t\t\tconnected_node = connected_node.next\n",
        "\t\telse:\n",
        "\t\t\tcurrent = self.dest_queue.pop(0)\n",
        "\t\t\tconnected_node = self.graph[current]\n",
        "\n",
        "\t\t\twhile connected_node:\n",
        "\t\t\t\tvertex = connected_node.vertex\n",
        "    \n",
        "\t\t\t\tif not self.dest_visited[vertex]:\n",
        "\t\t\t\t\tself.dest_queue.append(vertex)\n",
        "\t\t\t\t\tself.dest_visited[vertex] = True\n",
        "\t\t\t\t\tself.dest_parent[vertex] = current\n",
        "\t\t\t\tconnected_node = connected_node.next\n",
        "\n",
        "\tdef is_intersecting(self):\n",
        "\t\tfor i in range(self.vertices):\n",
        "\t\t\tif (self.src_visited[i] and\n",
        "\t\t\t\tself.dest_visited[i]):\n",
        "\t\t\t\treturn i\n",
        "\t\treturn -1\n",
        "\n",
        "\tdef print_path(self, intersecting_node,\n",
        "\t\t\t\tsrc, dest):\n",
        "\t\tpath = list()\n",
        "\t\tpath.append(intersecting_node)\n",
        "\t\ti = intersecting_node\n",
        "  \n",
        "\t\twhile i != src:\n",
        "\t\t\tpath.append(self.src_parent[i])\n",
        "\t\t\ti = self.src_parent[i]\n",
        "\t\tpath = path[::-1]\n",
        "\t\ti = intersecting_node\n",
        "\n",
        "\t\twhile i != dest:\n",
        "\t\t\tpath.append(self.dest_parent[i])\n",
        "\t\t\ti = self.dest_parent[i]\n",
        "\n",
        "\t\tprint(\"*****Path*****\")\n",
        "\t\tpath = list(map(str, path))\n",
        "\n",
        "\t\tprint(' '.join(path))\n",
        "\n",
        "\tdef bidirectional_search(self, src, dest):\n",
        "\t\tself.src_queue.append(src)\n",
        "\t\tself.src_visited[src] = True\n",
        "\t\tself.src_parent[src] = -1\n",
        "\n",
        "\t\tself.dest_queue.append(dest)\n",
        "\t\tself.dest_visited[dest] = True\n",
        "\t\tself.dest_parent[dest] = -1\n",
        "\n",
        "\t\twhile self.src_queue and self.dest_queue:\n",
        "\t\t\tself.bfs(direction = 'forward')\n",
        "\t\t\tself.bfs(direction = 'backward')\n",
        "\t\t\tintersecting_node = self.is_intersecting()\n",
        "\t\t\tif intersecting_node != -1:\n",
        "\t\t\t\tprint(f\"Path exists between {src} and {dest}\")\n",
        "\t\t\t\tprint(f\"Intersection at : {intersecting_node}\")\n",
        "\t\t\t\tself.print_path(intersecting_node,\n",
        "\t\t\t\t\t\t\t\tsrc, dest)\n",
        "\t\t\t\texit(0)\n",
        "\t\treturn -1\n",
        "\n",
        "if __name__ == '__main__':\n",
        "\n",
        "\tn = 15\n",
        "\tsrc = 0\n",
        "\tdest = 6\n",
        " \n",
        "\tgraph = BidirectionalSearch(n)\n",
        "\tgraph.add_edge(0, 4)\n",
        "\tgraph.add_edge(1, 4)\n",
        "\tgraph.add_edge(2, 5)\n",
        "\tgraph.add_edge(3, 5)\n",
        "\tgraph.add_edge(4, 6)\n",
        "\tgraph.add_edge(5, 6)\n",
        "\tgraph.add_edge(6, 7)\n",
        "\tgraph.add_edge(7, 8)\n",
        "\tgraph.add_edge(8, 9)\n",
        "\tgraph.add_edge(8, 10)\n",
        "\tgraph.add_edge(9, 11)\n",
        "\tgraph.add_edge(9, 12)\n",
        "\tgraph.add_edge(10, 13)\n",
        "\tgraph.add_edge(10, 14)\n",
        "\n",
        "\tout = graph.bidirectional_search(src, dest)\n",
        "\tif out == -1:\n",
        "\t\tprint(f\"Path does not exist between {src} and {dest}\")"
      ],
      "metadata": {
        "colab": {
          "base_uri": "https://localhost:8080/"
        },
        "id": "3YQXCNJNSYEx",
        "outputId": "f43d47d3-15ee-40a9-cb0d-bd719824eef4"
      },
      "execution_count": 12,
      "outputs": [
        {
          "output_type": "stream",
          "name": "stdout",
          "text": [
            "Path exists between 0 and 6\n",
            "Intersection at : 4\n",
            "*****Path*****\n",
            "0 4 6\n",
            "Path exists between 0 and 6\n",
            "Intersection at : 4\n",
            "*****Path*****\n",
            "0 4 6\n",
            "Path exists between 0 and 6\n",
            "Intersection at : 4\n",
            "*****Path*****\n",
            "0 4 6\n",
            "Path exists between 0 and 6\n",
            "Intersection at : 0\n",
            "*****Path*****\n",
            "0 4 6\n",
            "Path exists between 0 and 6\n",
            "Intersection at : 0\n",
            "*****Path*****\n",
            "0 4 6\n",
            "Path exists between 0 and 6\n",
            "Intersection at : 0\n",
            "*****Path*****\n",
            "0 4 6\n",
            "Path exists between 0 and 6\n",
            "Intersection at : 0\n",
            "*****Path*****\n",
            "0 4 6\n",
            "Path exists between 0 and 6\n",
            "Intersection at : 0\n",
            "*****Path*****\n",
            "0 4 6\n",
            "Path exists between 0 and 6\n",
            "Intersection at : 0\n",
            "*****Path*****\n",
            "0 4 6\n",
            "Path exists between 0 and 6\n",
            "Intersection at : 0\n",
            "*****Path*****\n",
            "0 4 6\n",
            "Path exists between 0 and 6\n",
            "Intersection at : 0\n",
            "*****Path*****\n",
            "0 4 6\n",
            "Path exists between 0 and 6\n",
            "Intersection at : 0\n",
            "*****Path*****\n",
            "0 4 6\n",
            "Path exists between 0 and 6\n",
            "Intersection at : 0\n",
            "*****Path*****\n",
            "0 4 6\n",
            "Path exists between 0 and 6\n",
            "Intersection at : 0\n",
            "*****Path*****\n",
            "0 4 6\n",
            "Path exists between 0 and 6\n",
            "Intersection at : 0\n",
            "*****Path*****\n",
            "0 4 6\n",
            "Path does not exist between 0 and 6\n"
          ]
        }
      ]
    },
    {
      "cell_type": "markdown",
      "source": [
        "TUGAS 01"
      ],
      "metadata": {
        "id": "MB5MDJnUUAE2"
      }
    },
    {
      "cell_type": "code",
      "source": [
        "def blind_search(start, goal, graph):\n",
        "\n",
        "    queue = [[start]]\n",
        "    visited = set()\n",
        "\n",
        "    while queue:\n",
        "        path = queue.pop(0)\n",
        "        node = path[-1]\n",
        "        if node == goal:\n",
        "            return path\n",
        "        if node not in visited:\n",
        "            for neighbor in graph[node]:\n",
        "                new_path = list(path)\n",
        "                new_path.append(neighbor)\n",
        "                queue.append(new_path)\n",
        "            visited.add(node)\n",
        "    return None\n",
        "graph = {\n",
        "    0: [1, 3, 4],\n",
        "    1: [0, 2, 3],\n",
        "    2: [1, 3],\n",
        "    3: [0, 1, 2, 4],\n",
        "    4: [0, 3],\n",
        "}\n",
        "\n",
        "start = 0\n",
        "goal = 2\n",
        "\n",
        "result = blind_search(start, goal, graph)\n",
        "if result is None:\n",
        "    print(\"Tidak ada jalur yang ditemukan.\")\n",
        "else:\n",
        "    print(\"Jalur terpendek dari simpul\", start, \"ke simpul\", goal, \"adalah:\", result)"
      ],
      "metadata": {
        "colab": {
          "base_uri": "https://localhost:8080/"
        },
        "id": "nWukWJ-wTJEU",
        "outputId": "55512168-0b09-465a-c479-a6b491e0c227"
      },
      "execution_count": 1,
      "outputs": [
        {
          "output_type": "stream",
          "name": "stdout",
          "text": [
            "Jalur terpendek dari simpul 0 ke simpul 2 adalah: [0, 1, 2]\n"
          ]
        }
      ]
    }
  ]
}